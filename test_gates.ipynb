{
 "cells": [
  {
   "cell_type": "code",
   "execution_count": 4,
   "metadata": {},
   "outputs": [],
   "source": [
    "import torch\n",
    "from gates import *"
   ]
  },
  {
   "cell_type": "code",
   "execution_count": 5,
   "metadata": {},
   "outputs": [],
   "source": [
    "# define 0, 1, +, - qubits\n",
    "zero = torch.tensor([1, 0], dtype=torch.complex64)\n",
    "one = torch.tensor([0, 1], dtype=torch.complex64)\n",
    "plus = torch.tensor([1, 1], dtype=torch.complex64) / torch.sqrt(torch.tensor(2.0))\n",
    "minus = torch.tensor([1, -1], dtype=torch.complex64) / torch.sqrt(torch.tensor(2.0))\n"
   ]
  },
  {
   "cell_type": "code",
   "execution_count": 6,
   "metadata": {},
   "outputs": [
    {
     "name": "stdout",
     "output_type": "stream",
     "text": [
      "tensor([1.+0.j, 0.+0.j, 0.+0.j, 0.+0.j])\n",
      "tensor([0.+0.j, 1.+0.j, 0.+0.j, 0.+0.j])\n",
      "tensor([0.+0.j, 0.+0.j, 0.+0.j, 1.+0.j])\n",
      "tensor([0.+0.j, 0.+0.j, 1.+0.j, 0.+0.j])\n"
     ]
    }
   ],
   "source": [
    "print(CNOT(zero, zero))\n",
    "print(CNOT(zero, one))\n",
    "print(CNOT(one, zero))\n",
    "print(CNOT(one, one))\n"
   ]
  },
  {
   "cell_type": "code",
   "execution_count": 15,
   "metadata": {},
   "outputs": [
    {
     "name": "stdout",
     "output_type": "stream",
     "text": [
      "tensor([0.7071+0.j, 0.0000+0.j, 0.0000+0.j, 0.7071+0.j])\n",
      "tensor([0.0000+0.j, 0.7071+0.j, 0.7071+0.j, 0.0000+0.j])\n",
      "tensor([ 0.7071+0.j,  0.0000+0.j,  0.0000+0.j, -0.7071+0.j])\n",
      "tensor([ 0.0000+0.j,  0.7071+0.j, -0.7071+0.j,  0.0000+0.j])\n"
     ]
    }
   ],
   "source": [
    "print(BellStateGate(zero, zero)) # should be 1/sqrt(2) * (|00> + |11>)\n",
    "print(BellStateGate(zero, one))\n",
    "print(BellStateGate(one, zero))\n",
    "print(BellStateGate(one, one))"
   ]
  }
 ],
 "metadata": {
  "kernelspec": {
   "display_name": "main",
   "language": "python",
   "name": "python3"
  },
  "language_info": {
   "codemirror_mode": {
    "name": "ipython",
    "version": 3
   },
   "file_extension": ".py",
   "mimetype": "text/x-python",
   "name": "python",
   "nbconvert_exporter": "python",
   "pygments_lexer": "ipython3",
   "version": "3.11.3"
  }
 },
 "nbformat": 4,
 "nbformat_minor": 2
}
