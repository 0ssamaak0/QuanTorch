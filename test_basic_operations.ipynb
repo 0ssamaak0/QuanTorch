{
 "cells": [
  {
   "cell_type": "code",
   "execution_count": 5,
   "metadata": {},
   "outputs": [],
   "source": [
    "import torch\n",
    "from math import *"
   ]
  },
  {
   "cell_type": "markdown",
   "metadata": {},
   "source": [
    "defining Complex tensor"
   ]
  },
  {
   "cell_type": "code",
   "execution_count": 6,
   "metadata": {},
   "outputs": [
    {
     "data": {
      "text/plain": [
       "tensor([[ 1.+0.j,  0.+2.j],\n",
       "        [-2.+0.j,  0.+1.j]])"
      ]
     },
     "execution_count": 6,
     "metadata": {},
     "output_type": "execute_result"
    }
   ],
   "source": [
    "bra = torch.tensor([[1, 2.j], [-2, 1.j]])\n",
    "bra"
   ]
  },
  {
   "cell_type": "markdown",
   "metadata": {},
   "source": [
    "Tensor Product"
   ]
  },
  {
   "cell_type": "code",
   "execution_count": 7,
   "metadata": {},
   "outputs": [
    {
     "data": {
      "text/plain": [
       "tensor([[[[1],\n",
       "          [1]]],\n",
       "\n",
       "\n",
       "        [[[1],\n",
       "          [1]]]])"
      ]
     },
     "execution_count": 7,
     "metadata": {},
     "output_type": "execute_result"
    }
   ],
   "source": [
    "hadamard0 = torch.tensor([1, 1]).reshape(-1, 1)\n",
    "\n",
    "torch.tensordot(hadamard0, hadamard0, dims = 0)"
   ]
  },
  {
   "cell_type": "code",
   "execution_count": 8,
   "metadata": {},
   "outputs": [
    {
     "name": "stderr",
     "output_type": "stream",
     "text": [
      "/tmp/ipykernel_2819/2342840771.py:1: UserWarning: The use of `x.T` on tensors of dimension other than 2 to reverse their shape is deprecated and it will throw an error in a future release. Consider `x.mT` to transpose batches of matrices or `x.permute(*torch.arange(x.ndim - 1, -1, -1))` to reverse the dimensions of a tensor. (Triggered internally at /opt/conda/conda-bld/pytorch_1682343995622/work/aten/src/ATen/native/TensorShape.cpp:3571.)\n",
      "  torch.tensor([1 / 3 -  1 / sqrt(3)]).conj().T * torch.tensor([1 / 3 -  1 / sqrt(3)])\n"
     ]
    },
    {
     "data": {
      "text/plain": [
       "tensor([0.0595])"
      ]
     },
     "execution_count": 8,
     "metadata": {},
     "output_type": "execute_result"
    }
   ],
   "source": [
    "torch.tensor([1 / 3 -  1 / sqrt(3)]).conj().T * torch.tensor([1 / 3 -  1 / sqrt(3)])"
   ]
  },
  {
   "cell_type": "code",
   "execution_count": 9,
   "metadata": {},
   "outputs": [
    {
     "data": {
      "text/plain": [
       "tensor([0.0595])"
      ]
     },
     "execution_count": 9,
     "metadata": {},
     "output_type": "execute_result"
    }
   ],
   "source": [
    "torch.tensor([1 / 3 -  1 / sqrt(3)]).conj().T * torch.tensor([1 / 3 -  1 / sqrt(3)])"
   ]
  },
  {
   "cell_type": "code",
   "execution_count": 10,
   "metadata": {},
   "outputs": [],
   "source": [
    "rands = torch.randint(0, 16, (20, 1), dtype = torch.int64)"
   ]
  },
  {
   "cell_type": "code",
   "execution_count": 11,
   "metadata": {},
   "outputs": [
    {
     "data": {
      "text/plain": [
       "tensor(2)"
      ]
     },
     "execution_count": 11,
     "metadata": {},
     "output_type": "execute_result"
    }
   ],
   "source": [
    "(rands == 3).sum()"
   ]
  },
  {
   "cell_type": "code",
   "execution_count": 12,
   "metadata": {},
   "outputs": [
    {
     "data": {
      "image/png": "[encoded data removed]",
      "text/plain": [
       "<Figure size 640x480 with 1 Axes>"
      ]
     },
     "metadata": {},
     "output_type": "display_data"
    }
   ],
   "source": [
    "import matplotlib.pyplot as plt\n",
    "plt.hist(rands, bins = 16);\n",
    "plt.xticks(torch.arange(16));"
   ]
  },
  {
   "cell_type": "code",
   "execution_count": 13,
   "metadata": {},
   "outputs": [
    {
     "data": {
      "text/plain": [
       "tensor([[[[ 5,  6],\n",
       "          [ 7,  8]],\n",
       "\n",
       "         [[10, 12],\n",
       "          [14, 16]]],\n",
       "\n",
       "\n",
       "        [[[15, 18],\n",
       "          [21, 24]],\n",
       "\n",
       "         [[20, 24],\n",
       "          [28, 32]]]])"
      ]
     },
     "execution_count": 13,
     "metadata": {},
     "output_type": "execute_result"
    }
   ],
   "source": [
    "a = torch.tensor([[1, 2], [3, 4]])\n",
    "b = torch.tensor([[5, 6], [7, 8]])\n",
    "\n",
    "c = torch.tensordot(a, b, dims=0)\n",
    "c"
   ]
  },
  {
   "cell_type": "markdown",
   "metadata": {},
   "source": [
    "Vector Representation"
   ]
  },
  {
   "cell_type": "code",
   "execution_count": 14,
   "metadata": {},
   "outputs": [
    {
     "data": {
      "text/plain": [
       "[(0.125+0j), (0.25+0j)]"
      ]
     },
     "execution_count": 14,
     "metadata": {},
     "output_type": "execute_result"
    }
   ],
   "source": [
    "vector_i = 1/4 * torch.tensor([0, 1], dtype=torch.complex64) + 1/8 * torch.tensor([1, 0], dtype=torch.complex64)\n",
    "# convert coefficients to list\n",
    "vector_i = vector_i.tolist()\n",
    "vector_i"
   ]
  },
  {
   "cell_type": "markdown",
   "metadata": {},
   "source": [
    "# Inner Product (Dirac Notation)"
   ]
  },
  {
   "cell_type": "code",
   "execution_count": 15,
   "metadata": {},
   "outputs": [
    {
     "name": "stdout",
     "output_type": "stream",
     "text": [
      "tensor([[1.+0.j],\n",
      "        [2.+0.j],\n",
      "        [0.+3.j]])\n",
      "tensor([[1.-0.j, 2.-0.j, 0.-3.j]])\n",
      "tensor([[14.+0.j]])\n"
     ]
    }
   ],
   "source": [
    "# Test\n",
    "ket = torch.tensor([1, 2, 3.j]).reshape(-1, 1)\n",
    "print(ket)\n",
    "\n",
    "bra = torch.conj(ket).T\n",
    "print(bra)\n",
    "\n",
    "# inner product (Dirac notation)\n",
    "inner_product = bra @ ket\n",
    "print(inner_product)\n"
   ]
  },
  {
   "cell_type": "code",
   "execution_count": 16,
   "metadata": {},
   "outputs": [],
   "source": [
    "def inner_product(bra, ket):\n",
    "    return torch.conj(bra).T @ ket"
   ]
  },
  {
   "cell_type": "code",
   "execution_count": 17,
   "metadata": {},
   "outputs": [],
   "source": [
    "def check_basis(vectors, normalize=False, verbose=True):\n",
    "    \"\"\"\n",
    "    Check if the vectors are orthogonal and normalized (orthonormal basis)\n",
    "    \"\"\" \n",
    "    # Check if all vectors are orthogonal (inner product is zero)\n",
    "    orthogonal = all([inner_product(i, j) == 0 for i in vectors for j in vectors if i is not j])\n",
    "\n",
    "    # Check if all vectors are normalized (inner product is one)\n",
    "    normalized = all([inner_product(i, i) == 1 for i in vectors])\n",
    "\n",
    "    # initial print\n",
    "    if verbose:\n",
    "        print(f'Vectors are orthogonal: {orthogonal} | Vectors are normalized: {normalized}')\n",
    "\n",
    "    # if the vectors are not normalized, normalize them\n",
    "    if not normalized and normalize and orthogonal:\n",
    "        # normalize vectors (divide by the norm)\n",
    "        vectors = [i / torch.sqrt(inner_product(i, i)) for i in vectors]\n",
    "        if verbose:\n",
    "            print('Vectors are orthogonal but not normalized. Normalizing...')\n",
    "            print(f\"vectors after normalization:\")\n",
    "            for i in vectors:\n",
    "                print(i)\n",
    "\n",
    "    return orthogonal and normalized\n"
   ]
  },
  {
   "cell_type": "code",
   "execution_count": 18,
   "metadata": {},
   "outputs": [
    {
     "name": "stdout",
     "output_type": "stream",
     "text": [
      "Vectors are orthogonal: True | Vectors are normalized: True\n"
     ]
    }
   ],
   "source": [
    "# Ex1: Computational basis (1 qubit)\n",
    "vector1 = torch.tensor([0, 1]).reshape(-1, 1)\n",
    "vector2 = torch.tensor([1, 0]).reshape(-1, 1)\n",
    "\n",
    "check_basis([vector1, vector2], True);"
   ]
  },
  {
   "cell_type": "code",
   "execution_count": 19,
   "metadata": {},
   "outputs": [
    {
     "name": "stdout",
     "output_type": "stream",
     "text": [
      "Vectors are orthogonal: True | Vectors are normalized: False\n",
      "Vectors are orthogonal but not normalized. Normalizing...\n",
      "vectors after normalization:\n",
      "tensor([[0.7071],\n",
      "        [0.7071]])\n",
      "tensor([[ 0.7071],\n",
      "        [-0.7071]])\n"
     ]
    }
   ],
   "source": [
    "# Ex2: Hadamard basis (1 qubit)\n",
    "vector1 = torch.tensor([1, 1]).reshape(-1, 1)\n",
    "vector2 = torch.tensor([1, -1]).reshape(-1, 1)\n",
    "\n",
    "check_basis([vector1, vector2], True);"
   ]
  },
  {
   "cell_type": "code",
   "execution_count": 20,
   "metadata": {},
   "outputs": [
    {
     "name": "stdout",
     "output_type": "stream",
     "text": [
      "Vectors are orthogonal: True | Vectors are normalized: True\n"
     ]
    }
   ],
   "source": [
    "# Ex3: 2 qubit basis\n",
    "vector1 = torch.tensor([1, 0, 0, 0]).reshape(-1, 1)\n",
    "vector2 = torch.tensor([0, 1, 0, 0]).reshape(-1, 1)\n",
    "vector3 = torch.tensor([0, 0, 1, 0]).reshape(-1, 1)\n",
    "vector4 = torch.tensor([0, 0, 0, 1]).reshape(-1, 1)\n",
    "\n",
    "check_basis([vector1, vector2, vector3, vector4], True);"
   ]
  },
  {
   "cell_type": "markdown",
   "metadata": {},
   "source": [
    "# Test from helpers"
   ]
  },
  {
   "cell_type": "code",
   "execution_count": 1,
   "metadata": {},
   "outputs": [],
   "source": [
    "from helpers import *\n",
    "import torch\n",
    "from math import *"
   ]
  },
  {
   "cell_type": "code",
   "execution_count": 2,
   "metadata": {},
   "outputs": [
    {
     "name": "stdout",
     "output_type": "stream",
     "text": [
      "Trace of P^2 is (0.7777777910232544+0j)\n",
      "State is mixed\n"
     ]
    },
    {
     "data": {
      "text/plain": [
       "True"
      ]
     },
     "execution_count": 2,
     "metadata": {},
     "output_type": "execute_result"
    }
   ],
   "source": [
    "x = torch.tensor([[1 / 3, 1.j/3], [-1.j / 3, 2 / 3]])\n",
    "determine_state(x)"
   ]
  },
  {
   "cell_type": "code",
   "execution_count": 3,
   "metadata": {},
   "outputs": [
    {
     "name": "stdout",
     "output_type": "stream",
     "text": [
      "Trace of P^2 is (0.7777777910232544+0j)\n",
      "State is mixed\n"
     ]
    },
    {
     "data": {
      "text/plain": [
       "True"
      ]
     },
     "execution_count": 3,
     "metadata": {},
     "output_type": "execute_result"
    }
   ],
   "source": [
    "y = torch.tensor([[3 / 4, sqrt(3) / 4], [sqrt(3) / 4, 1 / 4]])\n",
    "determine_state(x)"
   ]
  }
 ],
 "metadata": {
  "kernelspec": {
   "display_name": "main",
   "language": "python",
   "name": "python3"
  },
  "language_info": {
   "codemirror_mode": {
    "name": "ipython",
    "version": 3
   },
   "file_extension": ".py",
   "mimetype": "text/x-python",
   "name": "python",
   "nbconvert_exporter": "python",
   "pygments_lexer": "ipython3",
   "version": "3.11.3"
  },
  "orig_nbformat": 4
 },
 "nbformat": 4,
 "nbformat_minor": 2
}
