{
 "cells": [
  {
   "cell_type": "code",
   "execution_count": 3,
   "metadata": {},
   "outputs": [],
   "source": [
    "import torch"
   ]
  },
  {
   "cell_type": "markdown",
   "metadata": {},
   "source": [
    "defining Complex tensor"
   ]
  },
  {
   "cell_type": "code",
   "execution_count": 4,
   "metadata": {},
   "outputs": [
    {
     "data": {
      "text/plain": [
       "tensor([[ 1.+0.j,  0.+2.j],\n",
       "        [-2.+0.j,  0.+1.j]])"
      ]
     },
     "execution_count": 4,
     "metadata": {},
     "output_type": "execute_result"
    }
   ],
   "source": [
    "bra = torch.tensor([[1, 2.j], [-2, 1.j]])\n",
    "bra"
   ]
  },
  {
   "cell_type": "markdown",
   "metadata": {},
   "source": [
    "Tensor Product"
   ]
  },
  {
   "cell_type": "code",
   "execution_count": 14,
   "metadata": {},
   "outputs": [
    {
     "data": {
      "text/plain": [
       "tensor([[[[ 5,  6],\n",
       "          [ 7,  8]],\n",
       "\n",
       "         [[10, 12],\n",
       "          [14, 16]]],\n",
       "\n",
       "\n",
       "        [[[15, 18],\n",
       "          [21, 24]],\n",
       "\n",
       "         [[20, 24],\n",
       "          [28, 32]]]])"
      ]
     },
     "execution_count": 14,
     "metadata": {},
     "output_type": "execute_result"
    }
   ],
   "source": [
    "a = torch.tensor([[1, 2], [3, 4]])\n",
    "b = torch.tensor([[5, 6], [7, 8]])\n",
    "\n",
    "c = torch.tensordot(a, b, dims=0)\n",
    "c"
   ]
  },
  {
   "cell_type": "markdown",
   "metadata": {},
   "source": [
    "# Inner Product (Dirac Notation)"
   ]
  },
  {
   "cell_type": "code",
   "execution_count": 15,
   "metadata": {},
   "outputs": [
    {
     "name": "stdout",
     "output_type": "stream",
     "text": [
      "tensor([[1.+0.j],\n",
      "        [2.+0.j],\n",
      "        [0.+3.j]])\n",
      "tensor([[1.-0.j, 2.-0.j, 0.-3.j]])\n",
      "tensor([[14.+0.j]])\n"
     ]
    }
   ],
   "source": [
    "# Test\n",
    "ket = torch.tensor([1, 2, 3.j]).reshape(-1, 1)\n",
    "print(ket)\n",
    "\n",
    "bra = torch.conj(ket).T\n",
    "print(bra)\n",
    "\n",
    "# inner product (Dirac notation)\n",
    "inner_product = bra @ ket\n",
    "print(inner_product)\n"
   ]
  },
  {
   "cell_type": "code",
   "execution_count": 58,
   "metadata": {},
   "outputs": [],
   "source": [
    "def inner_product(bra, ket):\n",
    "    return torch.conj(bra).T @ ket"
   ]
  },
  {
   "cell_type": "code",
   "execution_count": 16,
   "metadata": {},
   "outputs": [],
   "source": [
    "def check_basis(vectors, normalize=False, verbose=True):\n",
    "    \"\"\"\n",
    "    Check if the vectors are orthogonal and normalized (orthonormal basis)\n",
    "    \"\"\" \n",
    "    # Check if all vectors are orthogonal (inner product is zero)\n",
    "    orthogonal = all([inner_product(i, j) == 0 for i in vectors for j in vectors if i is not j])\n",
    "\n",
    "    # Check if all vectors are normalized (inner product is one)\n",
    "    normalized = all([inner_product(i, i) == 1 for i in vectors])\n",
    "\n",
    "    # initial print\n",
    "    if verbose:\n",
    "        print(f'Vectors are orthogonal: {orthogonal} | Vectors are normalized: {normalized}')\n",
    "\n",
    "    # if the vectors are not normalized, normalize them\n",
    "    if not normalized and normalize and orthogonal:\n",
    "        # normalize vectors (divide by the norm)\n",
    "        vectors = [i / torch.sqrt(inner_product(i, i)) for i in vectors]\n",
    "        if verbose:\n",
    "            print('Vectors are orthogonal but not normalized. Normalizing...')\n",
    "            print(f\"vectors after normalization:\")\n",
    "            for i in vectors:\n",
    "                print(i)\n",
    "\n",
    "    return orthogonal and normalized\n"
   ]
  },
  {
   "cell_type": "code",
   "execution_count": 86,
   "metadata": {},
   "outputs": [
    {
     "name": "stdout",
     "output_type": "stream",
     "text": [
      "Vectors are orthogonal: True | Vectors are normalized: True\n"
     ]
    }
   ],
   "source": [
    "# Ex1: Computational basis (1 qubit)\n",
    "vector1 = torch.tensor([0, 1]).reshape(-1, 1)\n",
    "vector2 = torch.tensor([1, 0]).reshape(-1, 1)\n",
    "\n",
    "check_basis([vector1, vector2], True);"
   ]
  },
  {
   "cell_type": "code",
   "execution_count": 87,
   "metadata": {},
   "outputs": [
    {
     "name": "stdout",
     "output_type": "stream",
     "text": [
      "Vectors are orthogonal: True | Vectors are normalized: False\n",
      "Vectors are orthogonal but not normalized. Normalizing...\n",
      "vectors after normalization:\n",
      "tensor([[0.7071],\n",
      "        [0.7071]])\n",
      "tensor([[ 0.7071],\n",
      "        [-0.7071]])\n"
     ]
    }
   ],
   "source": [
    "# Ex2: Hadamard basis (1 qubit)\n",
    "vector1 = torch.tensor([1, 1]).reshape(-1, 1)\n",
    "vector2 = torch.tensor([1, -1]).reshape(-1, 1)\n",
    "\n",
    "check_basis([vector1, vector2], True);"
   ]
  },
  {
   "cell_type": "code",
   "execution_count": 90,
   "metadata": {},
   "outputs": [
    {
     "name": "stdout",
     "output_type": "stream",
     "text": [
      "Vectors are orthogonal: True | Vectors are normalized: True\n"
     ]
    }
   ],
   "source": [
    "# Ex3: 2 qubit basis\n",
    "vector1 = torch.tensor([1, 0, 0, 0]).reshape(-1, 1)\n",
    "vector2 = torch.tensor([0, 1, 0, 0]).reshape(-1, 1)\n",
    "vector3 = torch.tensor([0, 0, 1, 0]).reshape(-1, 1)\n",
    "vector4 = torch.tensor([0, 0, 0, 1]).reshape(-1, 1)\n",
    "\n",
    "check_basis([vector1, vector2, vector3, vector4], True);"
   ]
  }
 ],
 "metadata": {
  "kernelspec": {
   "display_name": "main",
   "language": "python",
   "name": "python3"
  },
  "language_info": {
   "codemirror_mode": {
    "name": "ipython",
    "version": 3
   },
   "file_extension": ".py",
   "mimetype": "text/x-python",
   "name": "python",
   "nbconvert_exporter": "python",
   "pygments_lexer": "ipython3",
   "version": "3.11.3"
  },
  "orig_nbformat": 4
 },
 "nbformat": 4,
 "nbformat_minor": 2
}
